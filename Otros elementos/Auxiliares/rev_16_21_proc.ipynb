{
 "cells": [
  {
   "cell_type": "markdown",
   "source": [
    "# CSV rev16 a rev21\n",
    "\n",
    "Este notebook coge el csv de las clasificaciones de zooniverse de las revisiones 16 a 21 y con las restricciones estudiadas crea un nuevo csv solo con los parametros necesitados (path y class).\n",
    "\n",
    "Restricciones:\n",
    "    - Si retirement = nothinghere and n.specific >= 3 and n.n2 >= 6.25 -> al dataset\n",
    "    - else retirement != nothing here): n.specific >5 and n.n2 >= 6.25 -> al dataset\n"
   ],
   "metadata": {
    "collapsed": false,
    "pycharm": {
     "name": "#%% md\n"
    }
   }
  },
  {
   "cell_type": "code",
   "execution_count": 2,
   "outputs": [],
   "source": [
    "# Librerias\n",
    "\n",
    "import os\n",
    "\n",
    "import numpy as np"
   ],
   "metadata": {
    "collapsed": false,
    "pycharm": {
     "name": "#%%\n"
    }
   }
  },
  {
   "cell_type": "code",
   "execution_count": 3,
   "outputs": [],
   "source": [
    "# Constantes\n",
    "\n",
    "Folder = \"../zooClasificaciones_rev1-15_16-21/\"\n",
    "\n",
    "CSV = Folder + \"zooClasificaciones_rev16_21.csv\"\n",
    "\n",
    "NEW_CSV = Folder + \"zooClasificaciones_rev16_21_procesadas.csv\"\n",
    "\n",
    "assert (os.path.isfile(CSV)), \"El csv introducido no existe\"\n"
   ],
   "metadata": {
    "collapsed": false,
    "pycharm": {
     "name": "#%%\n"
    }
   }
  },
  {
   "cell_type": "code",
   "execution_count": 5,
   "metadata": {
    "collapsed": true,
    "pycharm": {
     "name": "#%%\n"
    }
   },
   "outputs": [
    {
     "ename": "ValueError",
     "evalue": "invalid literal for int() with base 10: '0.833333333333333'",
     "output_type": "error",
     "traceback": [
      "\u001B[1;31m---------------------------------------------------------------------------\u001B[0m",
      "\u001B[1;31mValueError\u001B[0m                                Traceback (most recent call last)",
      "Cell \u001B[1;32mIn [5], line 59\u001B[0m\n\u001B[0;32m     55\u001B[0m foto_id, classification, retirement, n_specific, n_n2 \u001B[38;5;241m=\u001B[39m leerCSV(CSV)\n\u001B[0;32m     57\u001B[0m data \u001B[38;5;241m=\u001B[39m [foto_id, classification]\n\u001B[1;32m---> 59\u001B[0m indexes \u001B[38;5;241m=\u001B[39m \u001B[43mprocesar_datos\u001B[49m\u001B[43m(\u001B[49m\u001B[43mfoto_id\u001B[49m\u001B[43m,\u001B[49m\u001B[43m \u001B[49m\u001B[43mretirement\u001B[49m\u001B[43m,\u001B[49m\u001B[43m \u001B[49m\u001B[43mn_specific\u001B[49m\u001B[43m,\u001B[49m\u001B[43m \u001B[49m\u001B[43mn_n2\u001B[49m\u001B[43m)\u001B[49m\n",
      "Cell \u001B[1;32mIn [5], line 38\u001B[0m, in \u001B[0;36mprocesar_datos\u001B[1;34m(foto_id, retirement, n_specific, n_n2)\u001B[0m\n\u001B[0;32m     36\u001B[0m     indexes\u001B[38;5;241m.\u001B[39mappend(index)\n\u001B[0;32m     37\u001B[0m \u001B[38;5;66;03m# else retirement != nothing here): n.specific >5 and n.n2 >= 6.25 -> al dataset\u001B[39;00m\n\u001B[1;32m---> 38\u001B[0m \u001B[38;5;28;01melif\u001B[39;00m \u001B[38;5;28mint\u001B[39m(n_specific[index]) \u001B[38;5;241m>\u001B[39m\u001B[38;5;241m=\u001B[39m \u001B[38;5;241m5\u001B[39m \u001B[38;5;129;01mand\u001B[39;00m \u001B[38;5;28;43mint\u001B[39;49m\u001B[43m(\u001B[49m\u001B[43mn_n2\u001B[49m\u001B[43m[\u001B[49m\u001B[43mindex\u001B[49m\u001B[43m]\u001B[49m\u001B[43m)\u001B[49m \u001B[38;5;241m>\u001B[39m\u001B[38;5;241m=\u001B[39m \u001B[38;5;241m6.25\u001B[39m:\n\u001B[0;32m     39\u001B[0m     indexes\u001B[38;5;241m.\u001B[39mappend(index)\n",
      "\u001B[1;31mValueError\u001B[0m: invalid literal for int() with base 10: '0.833333333333333'"
     ]
    }
   ],
   "source": [
    "# Extraer datos necesarios del csv (foto_id, classification, retirement, n.specific, howmanymeadian, n.n2)\n",
    "\n",
    "\n",
    "#                                       FUNCION comprobarFechasImagenes\n",
    "\n",
    "# leer excel y obtiene los datos de las fechas por camara\n",
    "# Devuelve:\n",
    "#   - foto_id\n",
    "#   - classification\n",
    "#   - retirement\n",
    "#   - n.specific\n",
    "#   - n.n2\n",
    "\n",
    "def leerCSV(inputcsv = CSV):\n",
    "    # lee el csv a procesar\n",
    "\n",
    "    # los datos que obtiene del csv\n",
    "    foto_id, classification, retirement, n_specific, n_n2 = np.loadtxt(inputcsv, dtype=str,\n",
    "                                     delimiter=',', usecols=(0, 1, 2, 3, 5), unpack=True)\n",
    "\n",
    "    return foto_id, classification, retirement, n_specific, n_n2\n",
    "\n",
    "\n",
    "def procesar_datos(foto_id, retirement, n_specific, n_n2):\n",
    "    indexes = []\n",
    "\n",
    "    # Para cada item de la lista de fotos guardadas cuando se leyo el csv, coge el indice y la foto individual\n",
    "    for index, foto in enumerate(foto_id):\n",
    "\n",
    "        if index != 0:\n",
    "            # primero concatenar para que el acceso sea desde la carpeta procesadas\n",
    "            foto_id[index] = \"procesadas/\" + foto_id[index]\n",
    "\n",
    "            # caso Si retirement = nothinghere and n.specific >= 3 and n.n2 >= 6.25 -> al dataset\n",
    "            if retirement[index] == \"nothing_here\"  and int(n_specific[index]) >= 3 and int(n_n2[index]) >= 6.25:\n",
    "                indexes.append(index)\n",
    "            # else retirement != nothing here): n.specific >5 and n.n2 >= 6.25 -> al dataset\n",
    "            elif int(n_specific[index]) >= 5 and int(n_n2[index]) >= 6.25:\n",
    "                indexes.append(index)\n",
    "\n",
    "def write_csv(data, indexes_list, new_csv):\n",
    "    assert indexes_list, \"Lista de indices vacia, cuidado!\"\n",
    "\n",
    "    csvArray = np.empty([len(indexes_list), 2], dtype=object)\n",
    "\n",
    "    for idx, index in enumerate(indexes_list):\n",
    "        csvArray[idx] = data[index]\n",
    "\n",
    "    if os.path.exists(new_csv):\n",
    "        os.remove(new_csv)\n",
    "\n",
    "    np.savetxt(new_csv, csvArray, delimiter=\",\",fmt='%s')\n",
    "\n",
    "# leer csv\n",
    "foto_id, classification, retirement, n_specific, n_n2 = leerCSV(CSV)\n",
    "\n",
    "data = [foto_id, classification]\n",
    "\n",
    "indexes = procesar_datos(foto_id, retirement, n_specific, n_n2)"
   ]
  },
  {
   "cell_type": "code",
   "execution_count": 26,
   "outputs": [
    {
     "ename": "IndexError",
     "evalue": "only integers, slices (`:`), ellipsis (`...`), numpy.newaxis (`None`) and integer or boolean arrays are valid indices",
     "output_type": "error",
     "traceback": [
      "\u001B[1;31m---------------------------------------------------------------------------\u001B[0m",
      "\u001B[1;31mIndexError\u001B[0m                                Traceback (most recent call last)",
      "Cell \u001B[1;32mIn [26], line 6\u001B[0m\n\u001B[0;32m      2\u001B[0m foto_id, classification, retirement, n_specific, n_n2 \u001B[38;5;241m=\u001B[39m leerCSV(CSV)\n\u001B[0;32m      4\u001B[0m data \u001B[38;5;241m=\u001B[39m [foto_id, classification]\n\u001B[1;32m----> 6\u001B[0m indexes \u001B[38;5;241m=\u001B[39m \u001B[43mprocesar_datos\u001B[49m\u001B[43m(\u001B[49m\u001B[43mfoto_id\u001B[49m\u001B[43m,\u001B[49m\u001B[43m \u001B[49m\u001B[43mretirement\u001B[49m\u001B[43m,\u001B[49m\u001B[43m \u001B[49m\u001B[43mn_specific\u001B[49m\u001B[43m,\u001B[49m\u001B[43m \u001B[49m\u001B[43mn_n2\u001B[49m\u001B[43m)\u001B[49m\n\u001B[0;32m      8\u001B[0m write_csv(data)\n",
      "Cell \u001B[1;32mIn [24], line 32\u001B[0m, in \u001B[0;36mprocesar_datos\u001B[1;34m(foto_id, retirement, n_specific, n_n2)\u001B[0m\n\u001B[0;32m     28\u001B[0m \u001B[38;5;28;01mfor\u001B[39;00m index \u001B[38;5;129;01min\u001B[39;00m \u001B[38;5;28menumerate\u001B[39m(foto_id):\n\u001B[0;32m     30\u001B[0m     \u001B[38;5;28;01mif\u001B[39;00m index \u001B[38;5;241m!=\u001B[39m \u001B[38;5;241m0\u001B[39m:\n\u001B[0;32m     31\u001B[0m         \u001B[38;5;66;03m# primero concatenar para que el acceso sea desde la carpeta procesadas\u001B[39;00m\n\u001B[1;32m---> 32\u001B[0m         foto_id[index] \u001B[38;5;241m=\u001B[39m \u001B[38;5;124m\"\u001B[39m\u001B[38;5;124mprocesadas/\u001B[39m\u001B[38;5;124m\"\u001B[39m \u001B[38;5;241m+\u001B[39m \u001B[43mfoto_id\u001B[49m\u001B[43m[\u001B[49m\u001B[43mindex\u001B[49m\u001B[43m]\u001B[49m\n\u001B[0;32m     34\u001B[0m         \u001B[38;5;66;03m# caso Si retirement = nothinghere and n.specific >= 3 and n.n2 >= 6.25 -> al dataset\u001B[39;00m\n\u001B[0;32m     35\u001B[0m         \u001B[38;5;28;01mif\u001B[39;00m retirement[index] \u001B[38;5;241m==\u001B[39m \u001B[38;5;124m\"\u001B[39m\u001B[38;5;124mnothing_here\u001B[39m\u001B[38;5;124m\"\u001B[39m  \u001B[38;5;129;01mand\u001B[39;00m \u001B[38;5;28mint\u001B[39m(n_specific[index]) \u001B[38;5;241m>\u001B[39m\u001B[38;5;241m=\u001B[39m \u001B[38;5;241m3\u001B[39m \u001B[38;5;129;01mand\u001B[39;00m \u001B[38;5;28mint\u001B[39m(n_n2[index]) \u001B[38;5;241m>\u001B[39m\u001B[38;5;241m=\u001B[39m \u001B[38;5;241m6.25\u001B[39m:\n",
      "\u001B[1;31mIndexError\u001B[0m: only integers, slices (`:`), ellipsis (`...`), numpy.newaxis (`None`) and integer or boolean arrays are valid indices"
     ]
    }
   ],
   "source": [
    "\n",
    "\n",
    "\n",
    "\n",
    "write_csv(data)"
   ],
   "metadata": {
    "collapsed": false,
    "pycharm": {
     "name": "#%%\n"
    }
   }
  },
  {
   "cell_type": "code",
   "execution_count": 22,
   "outputs": [
    {
     "data": {
      "text/plain": "[[1, 2, 3], [4, 5, 6]]"
     },
     "execution_count": 22,
     "metadata": {},
     "output_type": "execute_result"
    }
   ],
   "source": [
    "a = [1,2,3]\n",
    "b = [4,5,6]\n",
    "\n",
    "c = [a,b]\n",
    "\n",
    "c"
   ],
   "metadata": {
    "collapsed": false,
    "pycharm": {
     "name": "#%%\n"
    }
   }
  },
  {
   "cell_type": "code",
   "execution_count": 19,
   "outputs": [
    {
     "data": {
      "text/plain": "[1, 2, 3, 4, 5, 6]"
     },
     "execution_count": 19,
     "metadata": {},
     "output_type": "execute_result"
    }
   ],
   "source": [
    "c"
   ],
   "metadata": {
    "collapsed": false,
    "pycharm": {
     "name": "#%%\n"
    }
   }
  },
  {
   "cell_type": "code",
   "execution_count": null,
   "outputs": [],
   "source": [],
   "metadata": {
    "collapsed": false,
    "pycharm": {
     "name": "#%%\n"
    }
   }
  }
 ],
 "metadata": {
  "kernelspec": {
   "display_name": "Python 3",
   "language": "python",
   "name": "python3"
  },
  "language_info": {
   "codemirror_mode": {
    "name": "ipython",
    "version": 2
   },
   "file_extension": ".py",
   "mimetype": "text/x-python",
   "name": "python",
   "nbconvert_exporter": "python",
   "pygments_lexer": "ipython2",
   "version": "2.7.6"
  }
 },
 "nbformat": 4,
 "nbformat_minor": 0
}