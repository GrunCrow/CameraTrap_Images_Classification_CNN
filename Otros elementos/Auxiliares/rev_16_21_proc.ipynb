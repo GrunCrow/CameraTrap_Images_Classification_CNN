{
 "cells": [
  {
   "cell_type": "markdown",
   "source": [
    "# CSV rev16 a rev21\n",
    "\n",
    "Este notebook coge el csv de las clasificaciones de zooniverse de las revisiones 16 a 21 y con las restricciones estudiadas crea un nuevo csv solo con los parametros necesitados (path y class).\n",
    "\n",
    "Restricciones:\n",
    "    - Si retirement = nothinghere and n.specific >= 3 and n.n2 >= 6.25 -> al dataset\n",
    "    - else retirement != nothing here): n.specific >5 and n.n2 >= 6.25 -> al dataset\n"
   ],
   "metadata": {
    "collapsed": false,
    "pycharm": {
     "name": "#%% md\n"
    }
   }
  },
  {
   "cell_type": "code",
   "execution_count": 1,
   "outputs": [],
   "source": [
    "# Librerias\n",
    "\n",
    "import os\n",
    "\n",
    "import numpy as np"
   ],
   "metadata": {
    "collapsed": false,
    "pycharm": {
     "name": "#%%\n"
    }
   }
  },
  {
   "cell_type": "code",
   "execution_count": 6,
   "outputs": [],
   "source": [
    "# Constantes\n",
    "\n",
    "Folder = \"../zooClasificaciones_rev1-15_16-21/\"\n",
    "\n",
    "CSV = Folder + \"zooClasificaciones_rev16_21.csv\"\n",
    "\n",
    "NEW_CSV = Folder + \"zooClasificaciones_rev16_21_procesadas.csv\"\n",
    "\n",
    "assert (os.path.isfile(CSV)), \"El csv introducido no existe\"\n"
   ],
   "metadata": {
    "collapsed": false,
    "pycharm": {
     "name": "#%%\n"
    }
   }
  },
  {
   "cell_type": "code",
   "execution_count": 11,
   "metadata": {
    "collapsed": true,
    "pycharm": {
     "name": "#%%\n"
    }
   },
   "outputs": [],
   "source": [
    "# Extraer datos necesarios del csv (foto_id, classification, retirement, n.specific, howmanymeadian, n.n2)\n",
    "\n",
    "\n",
    "#                                       FUNCION comprobarFechasImagenes\n",
    "\n",
    "# leer excel y obtiene los datos de las fechas por camara\n",
    "# Devuelve:\n",
    "#   - foto_id\n",
    "#   - classification\n",
    "#   - retirement\n",
    "#   - n.specific\n",
    "#   - n.n2\n",
    "\n",
    "def leerCSV(inputcsv = CSV):\n",
    "    # lee el csv a procesar\n",
    "\n",
    "    # los datos que obtiene del csv\n",
    "    foto_id, classification, retirement, n_specific, n_n2 = np.loadtxt(inputcsv, dtype=str,\n",
    "                                     delimiter=',', usecols=(0, 1, 2, 3, 5), unpack=True)\n",
    "\n",
    "    foto_id = [foto.replace(\"\\\"\",\"\") for foto in foto_id]\n",
    "    classification = [classe.replace(\"\\\"\",\"\") for classe in classification]\n",
    "\n",
    "    retirement = [ret.replace(\"\\\"\",\"\") for ret in retirement]\n",
    "\n",
    "    return foto_id, classification, retirement, n_specific, n_n2\n",
    "\n",
    "\n",
    "def get_indexes(foto_id, retirement, n_specific, n_n2):\n",
    "    indexes = []\n",
    "    # indexes.append(0) # cabecera\n",
    "\n",
    "    # Para cada item de la lista de fotos guardadas cuando se leyo el csv, coge el indice y la foto individual\n",
    "    for index, foto in enumerate(foto_id):\n",
    "\n",
    "        # foto_id[index] = foto_id[index].replace(\"\\\"\",\"\")\n",
    "\n",
    "        if index != 0:\n",
    "\n",
    "            # primero concatenar para que el acceso sea desde la carpeta procesadas\n",
    "            foto_id[index] = \"procesadas/\" + foto_id[index]\n",
    "\n",
    "            # caso Si retirement = nothinghere and n.specific >= 3 and n.n2 >= 6.25 -> al dataset\n",
    "            if retirement[index] == \"nothing_here\"  and int(n_specific[index]) >= 3 and float(n_n2[index]) >= 0.625:\n",
    "                indexes.append(index)\n",
    "            # else retirement != nothing here): n.specific >5 and n.n2 >= 6.25 -> al dataset\n",
    "            elif int(n_specific[index]) >= 5 and float(n_n2[index]) >= 0.625:\n",
    "                indexes.append(index)\n",
    "\n",
    "    return indexes\n",
    "\n",
    "def write_csv(data, indexes_list, new_csv):\n",
    "    assert indexes_list, \"Lista de indices vacia, cuidado!\"\n",
    "\n",
    "    csvArray = np.empty([len(indexes_list), 2], dtype=object)\n",
    "\n",
    "    for idx, index in enumerate(indexes_list):\n",
    "        csvArray[idx] = data[index]\n",
    "\n",
    "    if os.path.exists(new_csv):\n",
    "        os.remove(new_csv)\n",
    "\n",
    "    np.savetxt(new_csv, csvArray, delimiter=\",\",fmt='%s')"
   ]
  },
  {
   "cell_type": "code",
   "execution_count": 12,
   "outputs": [],
   "source": [
    "# leer csv\n",
    "foto_id, classification, retirement, n_specific, n_n2 = leerCSV(CSV)\n",
    "\n",
    "indexes = get_indexes(foto_id, retirement, n_specific, n_n2)\n",
    "\n",
    "data = np.column_stack([foto_id,classification])"
   ],
   "metadata": {
    "collapsed": false,
    "pycharm": {
     "name": "#%%\n"
    }
   }
  },
  {
   "cell_type": "code",
   "execution_count": 13,
   "outputs": [
    {
     "data": {
      "text/plain": "array([['foto_ID', 'classification'],\n       ['procesadas/rev16/10_16/10_20220126 (1).JPG', 'HUMANORVEHICLE'],\n       ['procesadas/rev16/10_16/10_20220126 (100).JPG', 'REDDEER'],\n       ...,\n       ['procesadas/rev22/8/8_20221125 (147).JPG', 'NOANIMAL'],\n       ['procesadas/rev22/9/9_20220918 (448).JPG', 'NOANIMAL'],\n       ['procesadas/rev22/9/9_20220919 (455).JPG', 'NOANIMAL']],\n      dtype='<U45')"
     },
     "execution_count": 13,
     "metadata": {},
     "output_type": "execute_result"
    }
   ],
   "source": [
    "data"
   ],
   "metadata": {
    "collapsed": false,
    "pycharm": {
     "name": "#%%\n"
    }
   }
  },
  {
   "cell_type": "code",
   "execution_count": 14,
   "outputs": [],
   "source": [
    "write_csv(data, indexes, NEW_CSV)"
   ],
   "metadata": {
    "collapsed": false,
    "pycharm": {
     "name": "#%%\n"
    }
   }
  }
 ],
 "metadata": {
  "kernelspec": {
   "display_name": "Python 3",
   "language": "python",
   "name": "python3"
  },
  "language_info": {
   "codemirror_mode": {
    "name": "ipython",
    "version": 2
   },
   "file_extension": ".py",
   "mimetype": "text/x-python",
   "name": "python",
   "nbconvert_exporter": "python",
   "pygments_lexer": "ipython2",
   "version": "2.7.6"
  }
 },
 "nbformat": 4,
 "nbformat_minor": 0
}