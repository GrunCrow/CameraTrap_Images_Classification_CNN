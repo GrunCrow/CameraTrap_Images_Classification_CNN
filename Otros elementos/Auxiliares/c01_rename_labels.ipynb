{
 "cells": [
  {
   "cell_type": "markdown",
   "source": [
    "# Renombrar tags"
   ],
   "metadata": {
    "collapsed": false,
    "pycharm": {
     "name": "#%% md\n"
    }
   }
  },
  {
   "cell_type": "code",
   "execution_count": 20,
   "metadata": {
    "collapsed": true,
    "pycharm": {
     "name": "#%%\n"
    }
   },
   "outputs": [],
   "source": [
    "# Librerias\n",
    "\n",
    "import os\n",
    "\n",
    "import numpy as np"
   ]
  },
  {
   "cell_type": "code",
   "execution_count": 43,
   "outputs": [],
   "source": [
    "# Constantes\n",
    "\n",
    "Folder = \"../zooClasificaciones_rev1-15_16-21/\"\n",
    "\n",
    "# CSV_NAME = \"zooClasificaciones_rev16_21_procesadas_20230221\"\n",
    "\n",
    "CSV_NAME = \"zooClasificaciones_rev1_15_procesadas_20230221\"\n",
    "\n",
    "CSV = Folder + CSV_NAME + \".csv\"\n",
    "\n",
    "NEW_CSV = Folder + \"c01_\" + CSV_NAME + \".csv\"\n",
    "\n",
    "assert (os.path.isfile(CSV)), \"El csv introducido no existe\"\n",
    "\n",
    "CHANNELS = 3"
   ],
   "metadata": {
    "collapsed": false,
    "pycharm": {
     "name": "#%%\n"
    }
   }
  },
  {
   "cell_type": "code",
   "execution_count": 44,
   "outputs": [],
   "source": [
    "# Extraer datos necesarios del csv (foto_id, classification, retirement, n.specific, howmanymeadian, n.n2)\n",
    "\n",
    "\n",
    "#                                       FUNCION comprobarFechasImagenes\n",
    "\n",
    "# leer excel y obtiene los datos de las fechas por camara\n",
    "# Devuelve:\n",
    "#   - path\n",
    "#   - label\n",
    "\n",
    "def leerCSV(inputcsv = CSV):\n",
    "    # lee el csv a procesar\n",
    "\n",
    "    # los datos que obtiene del csv\n",
    "    paths, labels = np.loadtxt(inputcsv, dtype=str,\n",
    "                                     delimiter=',', usecols=(0, 1), unpack=True)\n",
    "\n",
    "    paths = [path.replace(\"\\\"\",\"\") for path in paths]\n",
    "    labels = [label.replace(\"\\\"\",\"\") for label in labels]\n",
    "\n",
    "    return paths, labels"
   ],
   "metadata": {
    "collapsed": false,
    "pycharm": {
     "name": "#%%\n"
    }
   }
  },
  {
   "cell_type": "code",
   "execution_count": 66,
   "outputs": [],
   "source": [
    "# leer csv\n",
    "paths, labels = leerCSV(CSV)"
   ],
   "metadata": {
    "collapsed": false,
    "pycharm": {
     "name": "#%%\n"
    }
   }
  },
  {
   "cell_type": "code",
   "execution_count": 95,
   "outputs": [],
   "source": [
    "def rename_labels(labels):\n",
    "    for idx, label in enumerate(labels):\n",
    "\n",
    "        if label == \"BADGER\" or label == \"EUROPEANBADGER\":\n",
    "            labels[idx] = \"BADGER\"\n",
    "        elif label == \"CERVIDAE\" or label == \"CERVIDREDORFALLOWDEER\":\n",
    "            labels[idx] = \"CERVIDAE\"\n",
    "        elif label == \"COW\":\n",
    "            labels[idx] = \"COW\"\n",
    "        elif label == \"GENET\" or label == \"COMMONGENET\":\n",
    "            labels[idx] = \"GENET\"\n",
    "\n",
    "\n",
    "        elif label == \"HUMANORVEHICLE\":\n",
    "            labels[idx] = \"HUMANORVEHICLE\"\n",
    "\n",
    "        elif label == \"REDDEER\" or label == \"DEER\":\n",
    "            labels[idx] = \"DEER\"\n",
    "\n",
    "        elif label == \"NOANIMAL\" or label == \"EMPTY\":\n",
    "            labels[idx] = \"EMPTY\"\n",
    "\n",
    "        elif label == \"HORSE\":\n",
    "            labels[idx] = \"HORSE\"\n",
    "\n",
    "        elif label == \"FALLOWDEER\":\n",
    "            labels[idx] = \"FALLOWDEER\"\n",
    "\n",
    "        elif label == \"WILDBOAR\":\n",
    "            labels[idx] = \"WILDBOAR\"\n",
    "\n",
    "        elif label == \"REDFOX\" or label == \"FOX\":\n",
    "            labels[idx] = \"FOX\"\n",
    "\n",
    "        elif label == \"IBERIANHARE\" or label == \"HARE\":\n",
    "            labels[idx] = \"HARE\"\n",
    "\n",
    "        elif label == \"LEPORIDRABBITORHARE\" or label == \"LEPORID\":\n",
    "            labels[idx] = \"LEPORID\"\n",
    "\n",
    "        elif label == \"EGYPTIANMONGOOSE\" or label == \"MONGOOSE\":\n",
    "            labels[idx] = \"MONGOOSE\"\n",
    "\n",
    "        elif label == \"EUROPEANRABBIT\" or label == \"RABBIT\":\n",
    "            labels[idx] = \"RABBIT\"\n",
    "\n",
    "        elif label == \"UNRECOGNIZABLE\" or label == \"OTHERSPECIES\":\n",
    "            labels[idx] = labels[idx]\n",
    "            '''\n",
    "             'BADGER',\n",
    "             'CERVIDAE',\n",
    "             'CERVIDREDORFALLOWDEER',\n",
    "             'COMMONGENET',\n",
    "             'COW',\n",
    "             'DEER',\n",
    "             'EGYPTIANMONGOOSE',\n",
    "             'EMPTY',\n",
    "             'EUROPEANBADGER',\n",
    "             'EUROPEANRABBIT',\n",
    "             'FALLOWDEER',\n",
    "             'FOX',\n",
    "             'GENET',\n",
    "             'HARE',\n",
    "             'HORSE',\n",
    "             'HUMANORVEHICLE',\n",
    "             'IBERIANHARE',\n",
    "             'IBERIANLYNX',\n",
    "             'LEPORID',\n",
    "             'LEPORIDRABBITORHARE',\n",
    "             'MONGOOSE',\n",
    "             'NOANIMAL',\n",
    "             'OTHERSPECIES',\n",
    "             'RABBIT',\n",
    "             'REDDEER',\n",
    "             'REDFOX',\n",
    "             'UNRECOGNIZABLE',\n",
    "             'WILDBOAR'\n",
    "            '''\n",
    "        else:\n",
    "            print(label)\n",
    "            break\n",
    "\n",
    "    return labels\n",
    "\n",
    "def get_indexes(labels):\n",
    "    indexes = []\n",
    "    # indexes.append(0) # cabecera\n",
    "\n",
    "    # Para cada item de la lista de fotos guardadas cuando se leyo el csv, coge el indice y la foto individual\n",
    "    for index, label in enumerate(labels):\n",
    "        if label != \"UNRECOGNIZABLE\" and label != \"OTHERSPECIES\":\n",
    "            indexes.append(index)\n",
    "\n",
    "    return indexes"
   ],
   "metadata": {
    "collapsed": false,
    "pycharm": {
     "name": "#%%\n"
    }
   }
  },
  {
   "cell_type": "code",
   "execution_count": 95,
   "outputs": [],
   "source": [],
   "metadata": {
    "collapsed": false,
    "pycharm": {
     "name": "#%%\n"
    }
   }
  },
  {
   "cell_type": "code",
   "execution_count": 92,
   "outputs": [],
   "source": [],
   "metadata": {
    "collapsed": false,
    "pycharm": {
     "name": "#%%\n"
    }
   }
  },
  {
   "cell_type": "code",
   "execution_count": 95,
   "outputs": [],
   "source": [],
   "metadata": {
    "collapsed": false,
    "pycharm": {
     "name": "#%%\n"
    }
   }
  },
  {
   "cell_type": "code",
   "execution_count": 96,
   "outputs": [],
   "source": [
    "def write_csv(data, indexes_list, new_csv):\n",
    "    assert indexes_list, \"Lista de indices vacia, cuidado!\"\n",
    "\n",
    "    csvArray = np.empty([len(indexes_list), 2], dtype=object)\n",
    "\n",
    "    for idx, index in enumerate(indexes_list):\n",
    "        csvArray[idx] = data[index]\n",
    "\n",
    "    if os.path.exists(new_csv):\n",
    "        os.remove(new_csv)\n",
    "\n",
    "    np.savetxt(new_csv, csvArray, delimiter=\",\",fmt='%s')"
   ],
   "metadata": {
    "collapsed": false,
    "pycharm": {
     "name": "#%%\n"
    }
   }
  },
  {
   "cell_type": "code",
   "execution_count": 100,
   "outputs": [
    {
     "data": {
      "text/plain": "{'BADGER',\n 'CERVIDAE',\n 'CERVIDREDORFALLOWDEER',\n 'COMMONGENET',\n 'COW',\n 'DEER',\n 'EGYPTIANMONGOOSE',\n 'EMPTY',\n 'EUROPEANBADGER',\n 'EUROPEANRABBIT',\n 'FALLOWDEER',\n 'FOX',\n 'GENET',\n 'HARE',\n 'HORSE',\n 'HUMANORVEHICLE',\n 'IBERIANHARE',\n 'IBERIANLYNX',\n 'LEPORID',\n 'LEPORIDRABBITORHARE',\n 'MONGOOSE',\n 'NOANIMAL',\n 'OTHERSPECIES',\n 'RABBIT',\n 'REDDEER',\n 'REDFOX',\n 'UNRECOGNIZABLE',\n 'WILDBOAR'}"
     },
     "execution_count": 100,
     "metadata": {},
     "output_type": "execute_result"
    }
   ],
   "source": [
    "set(labels)"
   ],
   "metadata": {
    "collapsed": false,
    "pycharm": {
     "name": "#%%\n"
    }
   }
  },
  {
   "cell_type": "code",
   "execution_count": 97,
   "outputs": [
    {
     "name": "stdout",
     "output_type": "stream",
     "text": [
      "IBERIANLYNX\n"
     ]
    }
   ],
   "source": [
    "labels = rename_labels(labels)"
   ],
   "metadata": {
    "collapsed": false,
    "pycharm": {
     "name": "#%%\n"
    }
   }
  },
  {
   "cell_type": "code",
   "execution_count": 70,
   "outputs": [],
   "source": [
    "indexes_list = get_indexes(labels)"
   ],
   "metadata": {
    "collapsed": false,
    "pycharm": {
     "name": "#%%\n"
    }
   }
  },
  {
   "cell_type": "code",
   "execution_count": 50,
   "outputs": [],
   "source": [
    "data = np.column_stack([paths, labels])"
   ],
   "metadata": {
    "collapsed": false,
    "pycharm": {
     "name": "#%%\n"
    }
   }
  },
  {
   "cell_type": "code",
   "execution_count": 51,
   "outputs": [
    {
     "data": {
      "text/plain": "array([['10_20201019 (1000).JPG', 'EMPTY'],\n       ['10_20201019 (10041).JPG', 'EMPTY'],\n       ['10_20201019 (10047).JPG', 'EMPTY'],\n       ...,\n       ['IMG_9969.JPG', 'EMPTY'],\n       ['IMG_9977.JPG', 'EMPTY'],\n       ['IMG_9990.JPG', 'EMPTY']], dtype='<U25')"
     },
     "execution_count": 51,
     "metadata": {},
     "output_type": "execute_result"
    }
   ],
   "source": [
    "data"
   ],
   "metadata": {
    "collapsed": false,
    "pycharm": {
     "name": "#%%\n"
    }
   }
  },
  {
   "cell_type": "code",
   "execution_count": 52,
   "outputs": [],
   "source": [
    "write_csv(data, indexes_list, NEW_CSV)"
   ],
   "metadata": {
    "collapsed": false,
    "pycharm": {
     "name": "#%%\n"
    }
   }
  },
  {
   "cell_type": "code",
   "execution_count": null,
   "outputs": [],
   "source": [],
   "metadata": {
    "collapsed": false,
    "pycharm": {
     "name": "#%%\n"
    }
   }
  }
 ],
 "metadata": {
  "kernelspec": {
   "display_name": "Python 3",
   "language": "python",
   "name": "python3"
  },
  "language_info": {
   "codemirror_mode": {
    "name": "ipython",
    "version": 2
   },
   "file_extension": ".py",
   "mimetype": "text/x-python",
   "name": "python",
   "nbconvert_exporter": "python",
   "pygments_lexer": "ipython2",
   "version": "2.7.6"
  }
 },
 "nbformat": 4,
 "nbformat_minor": 0
}