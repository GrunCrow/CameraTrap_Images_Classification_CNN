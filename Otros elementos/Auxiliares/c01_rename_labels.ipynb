{
 "cells": [
  {
   "cell_type": "markdown",
   "source": [
    "# Renombrar tags"
   ],
   "metadata": {
    "collapsed": false,
    "pycharm": {
     "name": "#%% md\n"
    }
   }
  },
  {
   "cell_type": "code",
   "execution_count": 72,
   "metadata": {
    "collapsed": true,
    "pycharm": {
     "name": "#%%\n"
    }
   },
   "outputs": [],
   "source": [
    "# Librerias\n",
    "\n",
    "import os\n",
    "\n",
    "import numpy as np"
   ]
  },
  {
   "cell_type": "code",
   "execution_count": 73,
   "outputs": [],
   "source": [
    "# Constantes\n",
    "\n",
    "Folder = \"../../CSVs/\"\n",
    "\n",
    "# CSV_NAME = \"zooClasificaciones_rev16_21_procesadas_20230221\"\n",
    "\n",
    "CSV_NAME = \"TOY_reduced\"\n",
    "\n",
    "CSV = Folder + CSV_NAME + \".csv\"\n",
    "\n",
    "NEW_CSV = Folder + \"c01_\" + CSV_NAME + \".csv\"\n",
    "\n",
    "assert (os.path.isfile(CSV)), \"El csv introducido no existe\"\n",
    "\n",
    "CHANNELS = 3"
   ],
   "metadata": {
    "collapsed": false,
    "pycharm": {
     "name": "#%%\n"
    }
   }
  },
  {
   "cell_type": "code",
   "execution_count": 74,
   "outputs": [],
   "source": [
    "# Extraer datos necesarios del csv (foto_id, classification, retirement, n.specific, howmanymeadian, n.n2)\n",
    "\n",
    "\n",
    "#                                       FUNCION comprobarFechasImagenes\n",
    "\n",
    "# leer excel y obtiene los datos de las fechas por camara\n",
    "# Devuelve:\n",
    "#   - path\n",
    "#   - label\n",
    "\n",
    "def leerCSV(inputcsv = CSV):\n",
    "    # lee el csv a procesar\n",
    "\n",
    "    # los datos que obtiene del csv\n",
    "    paths, labels = np.loadtxt(inputcsv, dtype=str,\n",
    "                                     delimiter=',', usecols=(0, 1), unpack=True)\n",
    "\n",
    "    paths = [path.replace(\"\\\"\",\"\") for path in paths]\n",
    "    paths = [path.replace(\"\\'\",\"\") for path in paths]\n",
    "\n",
    "    labels = [label.replace(\"\\\"\",\"\") for label in labels]\n",
    "    labels = [label.replace(\"\\'\",\"\") for label in labels]\n",
    "\n",
    "    return paths, labels"
   ],
   "metadata": {
    "collapsed": false,
    "pycharm": {
     "name": "#%%\n"
    }
   }
  },
  {
   "cell_type": "code",
   "execution_count": 75,
   "outputs": [],
   "source": [
    "# leer csv\n",
    "# paths, labels = leerCSV(CSV)\n",
    "labels, paths = leerCSV(CSV)"
   ],
   "metadata": {
    "collapsed": false,
    "pycharm": {
     "name": "#%%\n"
    }
   }
  },
  {
   "cell_type": "code",
   "execution_count": 76,
   "outputs": [
    {
     "data": {
      "text/plain": "{'caballo',\n 'cervidae',\n 'ciervo',\n 'conejo',\n 'gamo',\n 'gineta',\n 'humanovehiculo',\n 'jabali',\n 'leporido',\n 'liebre',\n 'lince',\n 'meloncillo',\n 'tejon',\n 'vaca',\n 'vacia',\n 'zorro'}"
     },
     "execution_count": 76,
     "metadata": {},
     "output_type": "execute_result"
    }
   ],
   "source": [
    "set(labels)"
   ],
   "metadata": {
    "collapsed": false,
    "pycharm": {
     "name": "#%%\n"
    }
   }
  },
  {
   "cell_type": "code",
   "execution_count": 77,
   "outputs": [],
   "source": [
    "def rename_labels(labels):\n",
    "    for idx, label in enumerate(labels):\n",
    "\n",
    "        if label == \"BADGER\" or label == \"EUROPEANBADGER\" or label == \"tejon\":\n",
    "            labels[idx] = \"BADGER\"\n",
    "        elif label == \"CERVIDAE\" or label == \"CERVIDREDORFALLOWDEER\" or label == \"cervidae\":\n",
    "            labels[idx] = \"CERVIDAE\"\n",
    "        elif label == \"COMMONGENET\" or label == \"GENET\" or label == \"gineta\":\n",
    "            labels[idx] = \"GENET\"\n",
    "        elif label == \"COW\" or label == \"vaca\":\n",
    "            labels[idx] = \"COW\"\n",
    "        elif label == \"DEER\" or label == \"REDDEER\" or label == \"ciervo\":\n",
    "            labels[idx] = \"DEER\"\n",
    "        elif label == \"EGYPTIANMONGOOSE\" or label == \"MONGOOSE\" or label == \"meloncillo\":\n",
    "            labels[idx] = \"MONGOOSE\"\n",
    "        elif label == \"NOANIMAL\" or label == \"EMPTY\" or label == \"vacia\":\n",
    "            labels[idx] = \"EMPTY\"\n",
    "        elif label == \"EUROPEANRABBIT\" or label == \"RABBIT\" or label == \"conejo\":\n",
    "            labels[idx] = \"RABBIT\"\n",
    "        elif label == \"FALLOWDEER\" or label == \"gamo\":\n",
    "            labels[idx] = \"FALLOWDEER\"\n",
    "        elif label == \"FOX\" or label == \"REDFOX\" or label == \"zorro\":\n",
    "            labels[idx] = \"FOX\"\n",
    "        elif label == \"HARE\" or label == \"IBERIANHARE\" or label == \"liebre\":\n",
    "            labels[idx] = \"HARE\"\n",
    "        elif label == \"HORSE\" or label == \"caballo\":\n",
    "            labels[idx] = \"HORSE\"\n",
    "        elif label == \"HUMANORVEHICLE\" or label == \"humanovehiculo\":\n",
    "            labels[idx] = \"HUMANORVEHICLE\"\n",
    "        elif label == \"IBERIANLYNX\" or label == \"LYNX\" or label == \"lince\":\n",
    "            labels[idx] = \"LYNX\"\n",
    "        elif label == \"LEPORIDRABBITORHARE\" or label == \"LEPORID\" or label == \"leporido\":\n",
    "            labels[idx] = \"LEPORID\"\n",
    "        elif label == \"WILDBOAR\" or label == \"jabali\":\n",
    "            labels[idx] = \"WILDBOAR\"\n",
    "        elif label == \"UNRECOGNIZABLE\" or label == \"OTHERSPECIES\":\n",
    "            labels[idx] = labels[idx]\n",
    "        else:\n",
    "            print(label)\n",
    "            break\n",
    "\n",
    "    return labels\n",
    "\n",
    "def get_indexes(labels):\n",
    "    indexes = []\n",
    "    # indexes.append(0) # cabecera\n",
    "\n",
    "    # Para cada item de la lista de fotos guardadas cuando se leyo el csv, coge el indice y la foto individual\n",
    "    for index, label in enumerate(labels):\n",
    "        if label != \"UNRECOGNIZABLE\" and label != \"OTHERSPECIES\":\n",
    "            indexes.append(index)\n",
    "\n",
    "    return indexes"
   ],
   "metadata": {
    "collapsed": false,
    "pycharm": {
     "name": "#%%\n"
    }
   }
  },
  {
   "cell_type": "code",
   "execution_count": 78,
   "outputs": [],
   "source": [
    "def write_csv(data, indexes_list, new_csv):\n",
    "    assert indexes_list, \"Lista de indices vacia, cuidado!\"\n",
    "\n",
    "    csvArray = np.empty([len(indexes_list), 2], dtype=object)\n",
    "\n",
    "    for idx, index in enumerate(indexes_list):\n",
    "        csvArray[idx] = data[index]\n",
    "\n",
    "    if os.path.exists(new_csv):\n",
    "        os.remove(new_csv)\n",
    "\n",
    "    np.savetxt(new_csv, csvArray, delimiter=\",\",fmt='%s')"
   ],
   "metadata": {
    "collapsed": false,
    "pycharm": {
     "name": "#%%\n"
    }
   }
  },
  {
   "cell_type": "code",
   "execution_count": 79,
   "outputs": [],
   "source": [
    "new_labels = rename_labels(labels)"
   ],
   "metadata": {
    "collapsed": false,
    "pycharm": {
     "name": "#%%\n"
    }
   }
  },
  {
   "cell_type": "code",
   "execution_count": 80,
   "outputs": [
    {
     "data": {
      "text/plain": "{'BADGER',\n 'CERVIDAE',\n 'COW',\n 'DEER',\n 'EMPTY',\n 'FALLOWDEER',\n 'FOX',\n 'GENET',\n 'HARE',\n 'HORSE',\n 'HUMANORVEHICLE',\n 'LEPORID',\n 'LYNX',\n 'MONGOOSE',\n 'RABBIT',\n 'WILDBOAR'}"
     },
     "execution_count": 80,
     "metadata": {},
     "output_type": "execute_result"
    }
   ],
   "source": [
    "set(new_labels)"
   ],
   "metadata": {
    "collapsed": false,
    "pycharm": {
     "name": "#%%\n"
    }
   }
  },
  {
   "cell_type": "code",
   "execution_count": 81,
   "outputs": [],
   "source": [
    "indexes_list = get_indexes(labels)"
   ],
   "metadata": {
    "collapsed": false,
    "pycharm": {
     "name": "#%%\n"
    }
   }
  },
  {
   "cell_type": "code",
   "execution_count": 82,
   "outputs": [],
   "source": [
    "data = np.column_stack([paths, new_labels])"
   ],
   "metadata": {
    "collapsed": false,
    "pycharm": {
     "name": "#%%\n"
    }
   }
  },
  {
   "cell_type": "code",
   "execution_count": 83,
   "outputs": [
    {
     "data": {
      "text/plain": "array([['rev09/36/36_20210619 (4898).JPG', 'EMPTY'],\n       ['rev09/49/49_20210704 (24833).JPG', 'EMPTY'],\n       ['rev08/20/20_20210529 (16059).JPG', 'EMPTY'],\n       ...,\n       ['rev05/2/2_20210310 (3122).JPG', 'HARE'],\n       ['rev03/2/2_20201215 (5).JPG', 'HARE'],\n       ['rev06/2/2_20210410 (5464).JPG', 'HARE']], dtype='<U32')"
     },
     "execution_count": 83,
     "metadata": {},
     "output_type": "execute_result"
    }
   ],
   "source": [
    "data"
   ],
   "metadata": {
    "collapsed": false,
    "pycharm": {
     "name": "#%%\n"
    }
   }
  },
  {
   "cell_type": "code",
   "execution_count": 84,
   "outputs": [],
   "source": [
    "write_csv(data, indexes_list, NEW_CSV)"
   ],
   "metadata": {
    "collapsed": false,
    "pycharm": {
     "name": "#%%\n"
    }
   }
  },
  {
   "cell_type": "code",
   "execution_count": null,
   "outputs": [],
   "source": [],
   "metadata": {
    "collapsed": false,
    "pycharm": {
     "name": "#%%\n"
    }
   }
  }
 ],
 "metadata": {
  "kernelspec": {
   "display_name": "Python 3",
   "language": "python",
   "name": "python3"
  },
  "language_info": {
   "codemirror_mode": {
    "name": "ipython",
    "version": 2
   },
   "file_extension": ".py",
   "mimetype": "text/x-python",
   "name": "python",
   "nbconvert_exporter": "python",
   "pygments_lexer": "ipython2",
   "version": "2.7.6"
  }
 },
 "nbformat": 4,
 "nbformat_minor": 0
}