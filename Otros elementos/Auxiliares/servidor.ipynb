{
 "cells": [
  {
   "cell_type": "markdown",
   "source": [
    "# CSV Servidor\n",
    "\n",
    "Este notebook coge el csv de las clasificaciones de zooniverse de las clasificaciones de servidor\n"
   ],
   "metadata": {
    "collapsed": false,
    "pycharm": {
     "name": "#%% md\n"
    }
   }
  },
  {
   "cell_type": "code",
   "execution_count": 3,
   "outputs": [],
   "source": [
    "# Librerias\n",
    "\n",
    "import os\n",
    "\n",
    "import numpy as np"
   ],
   "metadata": {
    "collapsed": false,
    "pycharm": {
     "name": "#%%\n"
    }
   }
  },
  {
   "cell_type": "code",
   "execution_count": 11,
   "outputs": [],
   "source": [
    "# Constantes\n",
    "\n",
    "Folder = \"../Servidor/\"\n",
    "\n",
    "CSV_NAME = \"val\"\n",
    "\n",
    "# CSV_NAME = \"zooClasificaciones_rev1_15\"\n",
    "\n",
    "CSV = Folder + CSV_NAME + \".csv\"\n",
    "\n",
    "NEW_CSV = Folder + CSV_NAME + \"_procesadas_20230223.csv\"\n",
    "\n",
    "assert (os.path.isfile(CSV)), \"El csv introducido no existe\"\n"
   ],
   "metadata": {
    "collapsed": false,
    "pycharm": {
     "name": "#%%\n"
    }
   }
  },
  {
   "cell_type": "code",
   "execution_count": 12,
   "metadata": {
    "collapsed": true,
    "pycharm": {
     "name": "#%%\n"
    }
   },
   "outputs": [],
   "source": [
    "# Extraer datos necesarios del csv (foto_id, classification, retirement, n.specific, howmanymeadian, n.n2)\n",
    "\n",
    "\n",
    "#                                       FUNCION comprobarFechasImagenes\n",
    "\n",
    "# leer excel y obtiene los datos de las fechas por camara\n",
    "# Devuelve:\n",
    "#   - path\n",
    "#   - classification\n",
    "\n",
    "\n",
    "def leerCSV(inputcsv = CSV):\n",
    "    # lee el csv a procesar\n",
    "\n",
    "    # los datos que obtiene del csv\n",
    "    paths, labels = np.loadtxt(inputcsv, dtype=str,\n",
    "                                     delimiter=',', usecols=(0, 1), unpack=True)\n",
    "\n",
    "    paths = [path.replace(\"\\\"\",\"\") for path in paths]\n",
    "    labels = [label.replace(\"\\\"\",\"\") for label in labels]\n",
    "\n",
    "    return paths, labels\n",
    "\n",
    "\n",
    "def get_indexes(paths):\n",
    "    indexes = []\n",
    "    # indexes.append(0) # cabecera\n",
    "\n",
    "    # Para cada item de la lista de fotos guardadas cuando se leyo el csv, coge el indice y la foto individual\n",
    "    for index, path in enumerate(paths):\n",
    "\n",
    "        if index != 0:\n",
    "            indexes.append(index)\n",
    "\n",
    "    return indexes\n",
    "\n",
    "def write_csv(data, indexes_list, new_csv):\n",
    "    assert indexes_list, \"Lista de indices vacia, cuidado!\"\n",
    "\n",
    "    csvArray = np.empty([len(indexes_list), 2], dtype=object)\n",
    "\n",
    "    for idx, index in enumerate(indexes_list):\n",
    "        csvArray[idx] = data[index]\n",
    "\n",
    "    if os.path.exists(new_csv):\n",
    "        os.remove(new_csv)\n",
    "\n",
    "    np.savetxt(new_csv, csvArray, delimiter=\",\",fmt='%s')"
   ]
  },
  {
   "cell_type": "code",
   "execution_count": 13,
   "outputs": [],
   "source": [
    "# leer csv\n",
    "paths, labels = leerCSV(CSV)\n",
    "\n",
    "indexes = get_indexes(paths)\n",
    "\n",
    "data = np.column_stack([paths,labels])"
   ],
   "metadata": {
    "collapsed": false,
    "pycharm": {
     "name": "#%%\n"
    }
   }
  },
  {
   "cell_type": "code",
   "execution_count": 14,
   "outputs": [
    {
     "data": {
      "text/plain": "array([['path', 'label'],\n       ['/media/discoA/datasetBiodiversidad/garduna/Garduna_PNM_2013-0_ME/f14826IM000032.JPG',\n        'garduna'],\n       ['/media/discoA/datasetBiodiversidad/garduna/garduna_PNM_2012_ME/d1337IM000022.JPG',\n        'garduna'],\n       ...,\n       ['/media/discoA/datasetBiodiversidad/meloncillo/Meloncillo_PEPE_IREC_JC/IMAG0071.JPG',\n        'meloncillo'],\n       ['/media/discoA/datasetBiodiversidad/meloncillo/Meloncillo_PEPE_IREC_JC/IMAG0352.JPG',\n        'meloncillo'],\n       ['/media/discoA/datasetBiodiversidad/meloncillo/meloncillo_Leo_Otra_fauna_PASADA_POR_LA_RED_JC/Otrafauna (910).jpg',\n        'meloncillo']], dtype='<U156')"
     },
     "execution_count": 14,
     "metadata": {},
     "output_type": "execute_result"
    }
   ],
   "source": [
    "data"
   ],
   "metadata": {
    "collapsed": false,
    "pycharm": {
     "name": "#%%\n"
    }
   }
  },
  {
   "cell_type": "code",
   "execution_count": 15,
   "outputs": [],
   "source": [
    "write_csv(data, indexes, NEW_CSV)"
   ],
   "metadata": {
    "collapsed": false,
    "pycharm": {
     "name": "#%%\n"
    }
   }
  },
  {
   "cell_type": "code",
   "execution_count": null,
   "outputs": [],
   "source": [],
   "metadata": {
    "collapsed": false,
    "pycharm": {
     "name": "#%%\n"
    }
   }
  }
 ],
 "metadata": {
  "kernelspec": {
   "display_name": "Python 3",
   "language": "python",
   "name": "python3"
  },
  "language_info": {
   "codemirror_mode": {
    "name": "ipython",
    "version": 2
   },
   "file_extension": ".py",
   "mimetype": "text/x-python",
   "name": "python",
   "nbconvert_exporter": "python",
   "pygments_lexer": "ipython2",
   "version": "2.7.6"
  }
 },
 "nbformat": 4,
 "nbformat_minor": 0
}